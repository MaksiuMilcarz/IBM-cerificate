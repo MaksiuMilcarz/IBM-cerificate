{
 "cells": [
  {
   "cell_type": "markdown",
   "id": "63826a5a-9f94-403e-9c71-2600b7ad1288",
   "metadata": {},
   "source": [
    "<H1>Data Science Tools and Ecosystem</H1>"
   ]
  },
  {
   "cell_type": "markdown",
   "id": "e1e47a74-fa84-4aba-b3a8-f28839c978a6",
   "metadata": {},
   "source": [
    "In this notebook, Data Science Tools and Ecosystem are summarized."
   ]
  },
  {
   "cell_type": "markdown",
   "id": "893abce3-8507-46a7-88f6-43327d005f05",
   "metadata": {},
   "source": [
    "list Objectives in this notebook:\n",
    "  - List popular languages for Data Science\n",
    "  - basic arithmetic operations\n",
    "  - popular libraries\n",
    "   \n",
    "   \n",
    " <h2>Author:</h2>\n",
    " Max"
   ]
  },
  {
   "cell_type": "markdown",
   "id": "6e510b14-2bfb-45d2-93e2-13cfe9f8eab6",
   "metadata": {},
   "source": [
    "Some of the popular languages that Data Scientists use are:\n",
    " - python\n",
    "  - R\n",
    "  - Java"
   ]
  },
  {
   "cell_type": "markdown",
   "id": "e4b442a7-e7fe-4ab5-b6c0-e0629380cb43",
   "metadata": {},
   "source": [
    "Some of the commonly used libraries used by Data Scientists include:\n",
    "- pandas (python)\n",
    "- ggplot (R)\n",
    "- Matplotlib (python)"
   ]
  },
  {
   "cell_type": "markdown",
   "id": "6d0b1e0b-3682-4ed8-b632-a083e55fb32f",
   "metadata": {},
   "source": [
    "|Data Science Tools:|\n",
    "|---|\n",
    "|RStudio|\n",
    "|Jupyternotebook|\n",
    "|VScode|"
   ]
  },
  {
   "cell_type": "markdown",
   "id": "a0db7c14-4727-4217-988c-680ee3cfc953",
   "metadata": {},
   "source": [
    "<H3>Below are a few examples of evaluating arithmetic expressions in Python</H3>\n",
    "    \n",
    "    3+3\n",
    "    3-2\n",
    "    3*23\n",
    "    3/3\n",
    "    3%3"
   ]
  },
  {
   "cell_type": "code",
   "execution_count": 1,
   "id": "46ea5a03-557e-473f-8856-203b038fc5fb",
   "metadata": {},
   "outputs": [
    {
     "data": {
      "text/plain": [
       "17"
      ]
     },
     "execution_count": 1,
     "metadata": {},
     "output_type": "execute_result"
    }
   ],
   "source": [
    "#This a simple arithmetic expression to mutiply then add integers:\n",
    "(3*4)+5"
   ]
  },
  {
   "cell_type": "code",
   "execution_count": 3,
   "id": "8163ead0-71b1-4ad3-a09a-092be552a04d",
   "metadata": {},
   "outputs": [
    {
     "name": "stdout",
     "output_type": "stream",
     "text": [
      "3.3333333333333335\n"
     ]
    }
   ],
   "source": [
    "#This will convert 200 minutes to hours by diving by 60:\n",
    "minutes = 200\n",
    "hours = 200/60\n",
    "print(hours)"
   ]
  },
  {
   "cell_type": "code",
   "execution_count": null,
   "id": "f5018f90-0f41-4267-a6dd-fa71e196ec45",
   "metadata": {},
   "outputs": [],
   "source": []
  }
 ],
 "metadata": {
  "kernelspec": {
   "display_name": "Python 3 (ipykernel)",
   "language": "python",
   "name": "python3"
  },
  "language_info": {
   "codemirror_mode": {
    "name": "ipython",
    "version": 3
   },
   "file_extension": ".py",
   "mimetype": "text/x-python",
   "name": "python",
   "nbconvert_exporter": "python",
   "pygments_lexer": "ipython3",
   "version": "3.9.13"
  }
 },
 "nbformat": 4,
 "nbformat_minor": 5
}
